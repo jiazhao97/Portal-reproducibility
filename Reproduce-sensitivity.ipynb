{
 "cells": [
  {
   "cell_type": "markdown",
   "id": "824bb3ef",
   "metadata": {},
   "source": [
    "# Download\n",
    "\n",
    "The PBMC datasets were obtained from https://github.com/satijalab/seurat-data and saved as csv files.\n",
    "The original datasets are in https://www.ncbi.nlm.nih.gov/geo/query/acc.cgi?acc=GSE132044"
   ]
  },
  {
   "cell_type": "markdown",
   "id": "07d702df",
   "metadata": {},
   "source": [
    "# Sensitivity analysis\n",
    "Here we provide code for sensitivity analysis. This is an example of running Portal with parameters lcos = 20, lae = 10, lea = 10, m = 500, t = 5. Performance metrics are evaluated in this example. Change parameters in the third \"cell\" to perform the sensitivity analysis. "
   ]
  },
  {
   "cell_type": "code",
   "execution_count": 1,
   "id": "b2161f28",
   "metadata": {},
   "outputs": [
    {
     "name": "stdout",
     "output_type": "stream",
     "text": [
      "scanpy==1.7.2 anndata==0.7.6 umap==0.4.6 numpy==1.19.2 scipy==1.6.2 pandas==1.1.5 scikit-learn==0.24.1 statsmodels==0.12.2 python-igraph==0.9.1 louvain==0.7.0 leidenalg==0.7.0\n"
     ]
    }
   ],
   "source": [
    "import os\n",
    "import numpy as np\n",
    "import pandas as pd\n",
    "import scanpy as sc\n",
    "import portal\n",
    "import anndata\n",
    "\n",
    "sc.settings.verbosity = 3\n",
    "sc.logging.print_header()"
   ]
  },
  {
   "cell_type": "code",
   "execution_count": 2,
   "id": "fe167dec",
   "metadata": {},
   "outputs": [],
   "source": [
    "data_path = \"data_sensitivity/\"\n",
    "if not os.path.exists(data_path):\n",
    "    os.makedirs(data_path)\n",
    "\n",
    "result_path = \"results_sensitivity/\"\n",
    "if not os.path.exists(result_path):\n",
    "    os.makedirs(result_path)\n",
    "\n",
    "mtx_A = pd.read_csv(\"cnt_10x.csv\", index_col = 0).T\n",
    "adata_A = anndata.AnnData(X = mtx_A.values)\n",
    "adata_A.obs.index = mtx_A.index\n",
    "adata_A.obs[\"method\"] = \"10X\"\n",
    "adata_A.var.index = mtx_A.columns\n",
    "\n",
    "celltype_A = pd.read_csv(\"celltype_10x.csv\", index_col = 0)\n",
    "adata_A.obs[\"celltype\"] = celltype_A.values\n",
    "\n",
    "mtx_B = pd.read_csv(\"cnt_indrops.csv\", index_col = 0).T\n",
    "adata_B = anndata.AnnData(X = mtx_B.values)\n",
    "adata_B.obs.index = mtx_B.index\n",
    "adata_B.obs[\"method\"] = \"inDrops\"\n",
    "adata_B.var.index = mtx_B.columns\n",
    "\n",
    "celltype_B = pd.read_csv(\"celltype_indrops.csv\", index_col = 0)\n",
    "adata_B.obs[\"celltype\"] = celltype_B.values\n",
    "\n",
    "meta = pd.concat([adata_A.obs, adata_B.obs])\n",
    "\n",
    "meta = pd.concat([adata_A.obs, adata_B.obs])\n",
    "meta = meta.replace(\"CD4+ T cell\", \"T cell\")\n",
    "meta = meta.replace(\"Cytotoxic T cell\", \"T cell\")\n",
    "meta = meta.replace(\"CD14+ monocyte\", \"Mono\")\n",
    "meta = meta.replace(\"CD16+ monocyte\", \"Mono\")"
   ]
  },
  {
   "cell_type": "code",
   "execution_count": 3,
   "id": "7be28e64",
   "metadata": {},
   "outputs": [],
   "source": [
    "# Parameters can be set here\n",
    "\n",
    "lcos = 20.0\n",
    "lae = 10.0\n",
    "lea = 10.0\n",
    "m = 500\n",
    "t = 5.0"
   ]
  },
  {
   "cell_type": "code",
   "execution_count": 4,
   "id": "b8efb24e",
   "metadata": {},
   "outputs": [
    {
     "name": "stderr",
     "output_type": "stream",
     "text": [
      "If you pass `n_top_genes`, all cutoffs are ignored.\n",
      "extracting highly variable genes\n"
     ]
    },
    {
     "name": "stdout",
     "output_type": "stream",
     "text": [
      "Finding highly variable genes...\n"
     ]
    },
    {
     "name": "stderr",
     "output_type": "stream",
     "text": [
      "--> added\n",
      "    'highly_variable', boolean vector (adata.var)\n",
      "    'highly_variable_rank', float vector (adata.var)\n",
      "    'means', float vector (adata.var)\n",
      "    'variances', float vector (adata.var)\n",
      "    'variances_norm', float vector (adata.var)\n",
      "If you pass `n_top_genes`, all cutoffs are ignored.\n",
      "extracting highly variable genes\n",
      "--> added\n",
      "    'highly_variable', boolean vector (adata.var)\n",
      "    'highly_variable_rank', float vector (adata.var)\n",
      "    'means', float vector (adata.var)\n",
      "    'variances', float vector (adata.var)\n",
      "    'variances_norm', float vector (adata.var)\n",
      "normalizing counts per cell\n",
      "    finished (0:00:00)\n"
     ]
    },
    {
     "name": "stdout",
     "output_type": "stream",
     "text": [
      "Normalizing and scaling...\n"
     ]
    },
    {
     "name": "stderr",
     "output_type": "stream",
     "text": [
      "/home/jzhaoaz/.local/lib/python3.7/site-packages/scanpy/preprocessing/_simple.py:845: UserWarning: Revieved a view of an AnnData. Making a copy.\n",
      "  view_to_actual(adata)\n",
      "normalizing counts per cell\n",
      "    finished (0:00:00)\n"
     ]
    },
    {
     "name": "stdout",
     "output_type": "stream",
     "text": [
      "Dimensionality reduction via PCA...\n",
      "Begining time:  Thu Mar 17 20:02:20 2022\n",
      "step 0, loss_D=9.499032, loss_GAN=2.844378, loss_AE=174.033066, loss_cos=38.253616, loss_LA=129.384018\n",
      "step 200, loss_D=2.912441, loss_GAN=2.627915, loss_AE=10.730621, loss_cos=4.742882, loss_LA=2.224687\n",
      "step 400, loss_D=2.361604, loss_GAN=2.291337, loss_AE=7.112873, loss_cos=3.134823, loss_LA=1.170576\n",
      "step 600, loss_D=2.399822, loss_GAN=2.301024, loss_AE=5.429869, loss_cos=2.986072, loss_LA=0.838134\n",
      "step 800, loss_D=2.071423, loss_GAN=2.463070, loss_AE=4.666562, loss_cos=2.731022, loss_LA=0.652943\n",
      "Ending time:  Thu Mar 17 20:02:45 2022\n",
      "Training takes 25.29 seconds\n",
      "Begining time:  Thu Mar 17 20:02:45 2022\n",
      "Ending time:  Thu Mar 17 20:02:45 2022\n",
      "Evaluating takes 0.05 seconds\n",
      "UMAP(angular_rp_forest=True, local_connectivity=1, metric='correlation',\n",
      "     min_dist=0.3, n_neighbors=30, random_state=1234, repulsion_strength=1,\n",
      "     verbose=True)\n",
      "Construct fuzzy simplicial set\n",
      "Thu Mar 17 20:02:45 2022 Finding Nearest Neighbors\n",
      "Thu Mar 17 20:02:45 2022 Building RP forest with 9 trees\n",
      "Thu Mar 17 20:02:46 2022 NN descent for 13 iterations\n",
      "\t 0  /  13\n",
      "\t 1  /  13\n",
      "\t 2  /  13\n",
      "\t 3  /  13\n",
      "\t 4  /  13\n",
      "Thu Mar 17 20:02:54 2022 Finished Nearest Neighbor Search\n"
     ]
    },
    {
     "name": "stderr",
     "output_type": "stream",
     "text": [
      "/home/jzhaoaz/.conda/envs/scUNIT/lib/python3.7/site-packages/numba/np/ufunc/parallel.py:355: NumbaWarning: \u001b[1mThe TBB threading layer requires TBB version 2019.5 or later i.e., TBB_INTERFACE_VERSION >= 11005. Found TBB_INTERFACE_VERSION = 9107. The TBB threading layer is disabled.\u001b[0m\n",
      "  warnings.warn(problem)\n"
     ]
    },
    {
     "name": "stdout",
     "output_type": "stream",
     "text": [
      "Thu Mar 17 20:02:57 2022 Construct embedding\n",
      "\tcompleted  0  /  500 epochs\n",
      "\tcompleted  50  /  500 epochs\n",
      "\tcompleted  100  /  500 epochs\n",
      "\tcompleted  150  /  500 epochs\n",
      "\tcompleted  200  /  500 epochs\n",
      "\tcompleted  250  /  500 epochs\n",
      "\tcompleted  300  /  500 epochs\n",
      "\tcompleted  350  /  500 epochs\n",
      "\tcompleted  400  /  500 epochs\n",
      "\tcompleted  450  /  500 epochs\n"
     ]
    },
    {
     "name": "stderr",
     "output_type": "stream",
     "text": [
      "... storing 'method' as categorical\n",
      "... storing 'celltype' as categorical\n"
     ]
    },
    {
     "name": "stdout",
     "output_type": "stream",
     "text": [
      "Thu Mar 17 20:03:21 2022 Finished embedding\n"
     ]
    },
    {
     "data": {
      "image/png": "[encoded data removed]",
      "text/plain": [
       "<Figure size 432x288 with 1 Axes>"
      ]
     },
     "metadata": {},
     "output_type": "display_data"
    },
    {
     "data": {
      "image/png": "[encoded data removed]",
      "text/plain": [
       "<Figure size 432x288 with 1 Axes>"
      ]
     },
     "metadata": {},
     "output_type": "display_data"
    }
   ],
   "source": [
    "model = portal.model.Model(training_steps=1000, data_path=os.path.join(data_path, \"preprocess\"), \n",
    "                           model_path=\"./models_sensitivity\", \n",
    "                           result_path=result_path)\n",
    "model.preprocess(adata_A, adata_B, save_embedding=True)\n",
    "\n",
    "model.lambdacos = lcos\n",
    "model.lambdaAE = lae\n",
    "model.lambdaEA = lea\n",
    "model.batch_size = m\n",
    "model.margin = t\n",
    "\n",
    "model.train()\n",
    "model.eval(save_results=True)\n",
    "\n",
    "np.save(os.path.join(model.result_path, \"latent.npy\"), np.array(model.latent))\n",
    "\n",
    "portal.utils.plot_UMAP(model.latent, meta, space=\"latent\", colors=[\"method\", \"celltype\"], save=True, result_path=model.result_path)"
   ]
  },
  {
   "cell_type": "markdown",
   "id": "08a090b5",
   "metadata": {},
   "source": [
    "Prediction accuracy"
   ]
  },
  {
   "cell_type": "code",
   "execution_count": 5,
   "id": "96ae4922",
   "metadata": {},
   "outputs": [
    {
     "name": "stdout",
     "output_type": "stream",
     "text": [
      "Prediction accuracy:  0.9824509220701964\n"
     ]
    }
   ],
   "source": [
    "lowdim_10X = model.latent[:adata_A.shape[0]]\n",
    "lowdim_indrops = model.latent[adata_A.shape[0]:]\n",
    "celltype_10X = meta[\"celltype\"].values[:adata_A.shape[0]]\n",
    "celltype_indrops = meta[\"celltype\"].values[adata_A.shape[0]:]\n",
    "\n",
    "celltype_10X_pred = portal.utils.annotate_by_nn(lowdim_10X, lowdim_indrops, celltype_indrops, k=20, metric='euclidean')\n",
    "celltype_10X_pred_acc = np.sum(celltype_10X == celltype_10X_pred) / lowdim_10X.shape[0]\n",
    "\n",
    "print(\"Prediction accuracy: \", celltype_10X_pred_acc)"
   ]
  },
  {
   "cell_type": "markdown",
   "id": "1a2395c5",
   "metadata": {},
   "source": [
    "LISI scores"
   ]
  },
  {
   "cell_type": "code",
   "execution_count": 6,
   "id": "1e0c712c",
   "metadata": {},
   "outputs": [],
   "source": [
    "# Graph iLISI and Graph cLISI\n",
    "# We compute the lisi scores following https://docs.scvi-tools.org/en/stable/tutorials/notebooks/harmonization.html\n",
    "# lisi.py is from https://github.com/theislab/scib/tree/main/scib/metrics\n",
    "# knn_graph is from https://github.com/theislab/scib/tree/main/scib\n",
    "\n",
    "def compute_scib_metrics(adata, emb_key, label_key, batch_key, model_name):\n",
    "    from lisi import lisi_graph\n",
    "\n",
    "    emb_key_ = \"X_emb\"\n",
    "    adata.obsm[emb_key_] = adata.obsm[emb_key]\n",
    "    sc.pp.neighbors(adata, use_rep=emb_key_)\n",
    "    df = pd.DataFrame(index=[model_name])\n",
    "    df[\"ilisi\"], df[\"clisi\"] = lisi_graph(adata, batch_key, label_key, type_=\"embed\")\n",
    "\n",
    "    return df"
   ]
  },
  {
   "cell_type": "code",
   "execution_count": 7,
   "id": "fa1c96a2",
   "metadata": {},
   "outputs": [
    {
     "name": "stderr",
     "output_type": "stream",
     "text": [
      "computing neighbors\n",
      "    finished: added to `.uns['neighbors']`\n",
      "    `.obsp['distances']`, distances for each pair of neighbors\n",
      "    `.obsp['connectivities']`, weighted adjacency matrix (0:00:01)\n",
      "computing neighbors\n",
      "    finished: added to `.uns['neighbors']`\n",
      "    `.obsp['distances']`, distances for each pair of neighbors\n",
      "    `.obsp['connectivities']`, weighted adjacency matrix (0:00:01)\n"
     ]
    },
    {
     "name": "stdout",
     "output_type": "stream",
     "text": [
      "/tmp/lisi_9cg8wd8c/input.mtx /tmp/lisi_9cg8wd8c/\n"
     ]
    },
    {
     "name": "stderr",
     "output_type": "stream",
     "text": [
      "computing neighbors\n",
      "    finished: added to `.uns['neighbors']`\n",
      "    `.obsp['distances']`, distances for each pair of neighbors\n",
      "    `.obsp['connectivities']`, weighted adjacency matrix (0:00:01)\n"
     ]
    },
    {
     "name": "stdout",
     "output_type": "stream",
     "text": [
      "/tmp/lisi_8nazj1tz/input.mtx /tmp/lisi_8nazj1tz/\n",
      "Graph iLISI:  [0.74538276]\n",
      "Graph cLISI:  [1.]\n"
     ]
    }
   ],
   "source": [
    "adata = anndata.AnnData(X=model.latent)\n",
    "adata.obsm[\"emb\"] = model.latent\n",
    "adata.obs[\"batch\"] = list(meta[\"method\"].values)\n",
    "adata.obs[\"batch\"] = adata.obs[\"batch\"].astype('category')\n",
    "adata.obs[\"celltype\"] = list(meta[\"celltype\"].values)\n",
    "adata.obs[\"celltype\"] = adata.obs[\"celltype\"].astype('category')\n",
    "\n",
    "metrics = compute_scib_metrics(adata, emb_key=\"emb\", label_key=\"celltype\", batch_key=\"batch\", model_name=\"Portal\")\n",
    "\n",
    "print(\"Graph iLISI: \", metrics[\"ilisi\"].values)\n",
    "print(\"Graph cLISI: \", metrics[\"clisi\"].values)"
   ]
  }
 ],
 "metadata": {
  "kernelspec": {
   "display_name": "Python 3",
   "language": "python",
   "name": "python3"
  },
  "language_info": {
   "codemirror_mode": {
    "name": "ipython",
    "version": 3
   },
   "file_extension": ".py",
   "mimetype": "text/x-python",
   "name": "python",
   "nbconvert_exporter": "python",
   "pygments_lexer": "ipython3",
   "version": "3.7.10"
  }
 },
 "nbformat": 4,
 "nbformat_minor": 5
}
